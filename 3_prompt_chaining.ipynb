{
 "cells": [
  {
   "cell_type": "code",
   "execution_count": 11,
   "id": "12a3e3e6",
   "metadata": {},
   "outputs": [],
   "source": [
    "from langgraph.graph import StateGraph, START, END\n",
    "from typing import TypedDict\n",
    "from dotenv import load_dotenv\n",
    "from langchain_groq import ChatGroq"
   ]
  },
  {
   "cell_type": "code",
   "execution_count": 3,
   "id": "db525b2f",
   "metadata": {},
   "outputs": [
    {
     "data": {
      "text/plain": [
       "True"
      ]
     },
     "execution_count": 3,
     "metadata": {},
     "output_type": "execute_result"
    }
   ],
   "source": [
    "load_dotenv()"
   ]
  },
  {
   "cell_type": "code",
   "execution_count": 12,
   "id": "5c611a11",
   "metadata": {},
   "outputs": [],
   "source": [
    "model=ChatGroq(model='llama-3.1-8b-instant')"
   ]
  },
  {
   "cell_type": "code",
   "execution_count": 13,
   "id": "31750fcf",
   "metadata": {},
   "outputs": [],
   "source": [
    "class BlogState(TypedDict):\n",
    "    title :str\n",
    "    outline :str\n",
    "    content :str\n",
    "    \n"
   ]
  },
  {
   "cell_type": "code",
   "execution_count": 14,
   "id": "73a2e9e3",
   "metadata": {},
   "outputs": [],
   "source": [
    "def create_outline(state: BlogState) -> BlogState:\n",
    "\n",
    "    # fetch title\n",
    "    title = state['title']\n",
    "\n",
    "    # call llm gen outline\n",
    "    prompt = f'Generate a detailed outline for a blog on the topic - {title}'\n",
    "    outline = model.invoke(prompt).content\n",
    "\n",
    "    # update state\n",
    "    state['outline'] = outline\n",
    "\n",
    "    return state"
   ]
  },
  {
   "cell_type": "code",
   "execution_count": 15,
   "id": "bffaf129",
   "metadata": {},
   "outputs": [],
   "source": [
    "def create_blog(state: BlogState) -> BlogState:\n",
    "\n",
    "    title = state['title']\n",
    "    outline = state['outline']\n",
    "\n",
    "    prompt = f'Write a detailed blog on the title - {title} using the follwing outline \\n {outline}'\n",
    "\n",
    "    content = model.invoke(prompt).content\n",
    "\n",
    "    state['content'] = content\n",
    "\n",
    "    return state"
   ]
  },
  {
   "cell_type": "code",
   "execution_count": 21,
   "id": "e839c55c",
   "metadata": {},
   "outputs": [
    {
     "data": {
      "image/png": "[encoded data removed]",
      "text/plain": [
       "<langgraph.graph.state.CompiledStateGraph object at 0x135d1e1e0>"
      ]
     },
     "execution_count": 21,
     "metadata": {},
     "output_type": "execute_result"
    }
   ],
   "source": [
    "#define graph\n",
    "\n",
    "graph=StateGraph(BlogState)\n",
    "\n",
    "graph.add_node('create_outline', create_outline)\n",
    "graph.add_node('create_blog',create_blog)\n",
    "\n",
    "\n",
    "graph.add_edge(START,'create_outline')\n",
    "graph.add_edge('create_outline','create_blog')\n",
    "\n",
    "\n",
    "graph.add_edge('create_blog',END)\n",
    "\n",
    "\n",
    "graph.compile(())"
   ]
  },
  {
   "cell_type": "code",
   "execution_count": 17,
   "id": "eda213cb",
   "metadata": {},
   "outputs": [],
   "source": [
    "workflow = graph.compile()\n",
    "\n",
    "initial_state={'title': \"write bolg on Finanace analyst\"}\n",
    "\n",
    "final_state=workflow.invoke(initial_state)"
   ]
  },
  {
   "cell_type": "code",
   "execution_count": 19,
   "id": "8b08365a",
   "metadata": {},
   "outputs": [
    {
     "data": {
      "text/plain": [
       "'**A Comprehensive Guide to Becoming a Financial Analyst: Career Path, Skills, and Salary Expectations**\\n\\nAs the world of finance continues to evolve at a rapid pace, the role of a financial analyst has become increasingly crucial in business decision-making. In this blog post, we will delve into the world of financial analysis, exploring the job description, education and training requirements, skills and knowledge, career path and progression, salary expectations, and industry trends. Whether you\\'re an aspiring financial analyst or simply looking to expand your knowledge, this comprehensive guide will provide you with the insights and information you need to succeed in this exciting and rewarding career.\\n\\n**I. Introduction**\\n\\nA financial analyst plays a vital role in helping organizations make informed decisions about investments, funding, and other financial matters. They analyze financial data, identify trends, and provide recommendations to stakeholders, including executives, investors, and other decision-makers. In today\\'s fast-paced business environment, financial analysts are in high demand, and the career prospects in the finance industry are excellent.\\n\\nFinancial analysts work in a variety of settings, including banks, investment firms, corporations, and government agencies. They are responsible for analyzing financial data, identifying areas for cost reduction, and developing strategies to increase revenue. Their work has a direct impact on the bottom line, making them an essential part of any organization\\'s financial team.\\n\\n**II. Financial Analyst Job Description and Responsibilities**\\n\\nA financial analyst\\'s job description may vary depending on their specific role, industry, and organization. However, some common tasks and duties include:\\n\\n* Analyzing financial data, including balance sheets, income statements, and cash flow statements\\n* Identifying trends and patterns in financial data\\n* Developing financial models and forecasts\\n* Providing recommendations to stakeholders, including executives, investors, and other decision-makers\\n* Conducting market research and analyzing industry trends\\n* Identifying areas for cost reduction and developing strategies to increase revenue\\n\\nThere are several types of financial analysts, each with their own specific responsibilities and areas of focus. Some of the most common types of financial analysts include:\\n\\n* Investment analysts, who analyze stocks, bonds, and other investment opportunities\\n* Cost analysts, who identify areas for cost reduction and develop strategies to increase efficiency\\n* Financial planning analysts, who help organizations develop financial plans and forecasts\\n* Risk analysts, who identify and assess potential risks to an organization\\'s financial stability\\n\\nTo be a successful financial analyst, you\\'ll need to possess a range of technical, business, and communication skills. Some of the key skills required for this role include:\\n\\n* Strong analytical and problem-solving skills\\n* Excellent communication and presentation skills\\n* Ability to work with financial data and models\\n* Knowledge of accounting principles and financial regulations (GAAP, IFRS)\\n* Business acumen and market trends\\n\\n**III. Education and Training Requirements**\\n\\nTo become a financial analyst, you\\'ll typically need a bachelor\\'s degree in finance, accounting, economics, or a related field. Some common majors for financial analysts include:\\n\\n* Finance\\n* Accounting\\n* Economics\\n* Business Administration\\n* Mathematics\\n\\nAn advanced degree, such as an MBA or a CFA (Chartered Financial Analyst) charter, can be beneficial for senior roles or leadership positions. Additionally, relevant certifications and licenses, such as the CFA or FRM (Financial Risk Manager), can demonstrate your expertise and commitment to the field.\\n\\n**IV. Skills and Knowledge Required**\\n\\nFinancial analysts need to possess a range of technical, business, and communication skills. Some of the key skills and knowledge required for this role include:\\n\\n* Financial modeling and analysis\\n* Data analysis and visualization tools (Excel, Tableau, Power BI)\\n* Financial statement analysis and forecasting\\n* Accounting principles and financial regulations (GAAP, IFRS)\\n* Business acumen and market trends\\n* Strong analytical and problem-solving skills\\n* Excellent communication and presentation skills\\n\\n**V. Career Path and Progression**\\n\\nThe career path for financial analysts can vary depending on their specific role, industry, and organization. However, some common career progression steps include:\\n\\n* Entry-level roles (financial analyst, junior analyst)\\n* Mid-level roles (senior analyst, financial planning analyst)\\n* Senior-level roles (financial manager, controller)\\n* Leadership positions (director, VP, C-level)\\n\\nAs you progress in your career, you\\'ll have the opportunity to take on more complex and challenging projects, develop your skills and expertise, and increase your earning potential.\\n\\n**VI. Salary Expectations and Benefits**\\n\\nThe salary expectations for financial analysts can vary depending on their specific role, industry, and organization. However, according to the Bureau of Labor Statistics (BLS), the median annual salary for financial analysts in the United States was $85,660 in May 2022.\\n\\nIn addition to salary, financial analysts may also receive benefits, such as bonuses, stock options, and health insurance. Some common benefits for financial analysts include:\\n\\n* Bonuses, which are typically paid out annually or quarterly\\n* Stock options, which give employees the opportunity to purchase company stock at a discounted rate\\n* Health insurance, which provides medical, dental, and vision coverage\\n* Retirement plans, such as 401(k) or pension plans\\n\\n**VII. Software and Tools Used by Financial Analysts**\\n\\nFinancial analysts use a range of software and tools to perform their job duties. Some of the most common software and tools used by financial analysts include:\\n\\n* Spreadsheets (Excel, Google Sheets)\\n* Data analysis and visualization tools (Tableau, Power BI)\\n* Financial modeling software (Oracle, SAP)\\n* Database management systems (MySQL, SQL Server)\\n\\n**VIII. Industry Trends and Future Prospects**\\n\\nThe finance industry is constantly evolving, with new technologies, regulations, and trends emerging all the time. Some of the key industry trends and future prospects for financial analysts include:\\n\\n* Impact of technology on finance industry (AI, machine learning)\\n* Shift towards sustainable finance and ESG investing\\n* Emerging trends in financial analysis (cloud-based, data-driven)\\n\\n**IX. Conclusion**\\n\\nIn conclusion, becoming a financial analyst requires a strong foundation in finance, accounting, and business, as well as excellent analytical, communication, and problem-solving skills. As the finance industry continues to evolve, the demand for skilled financial analysts will only continue to grow. Whether you\\'re an aspiring financial analyst or simply looking to expand your knowledge, this comprehensive guide has provided you with the insights and information you need to succeed in this exciting and rewarding career.\\n\\n**X. Additional Resources**\\n\\nFor those interested in pursuing a career in finance, here are some additional resources to consider:\\n\\n* Books:\\n\\t+ \"The Financial Analyst\\'s Handbook\" by CFA Institute\\n\\t+ \"Financial Modeling\" by Simon Benninga\\n* Articles:\\n\\t+ \"The Future of Financial Analysis\" by McKinsey\\n\\t+ \"The Impact of AI on Finance\" by Deloitte\\n* Online courses:\\n\\t+ Coursera\\'s \"Financial Analysis\" course by University of Pennsylvania\\n\\t+ edX\\'s \"Financial Management\" course by University of Michigan\\n* Industry associations and professional networks:\\n\\t+ CFA Institute\\n\\t+ IIA (Institute of Internal Auditors)\\n\\t+ AICPA (American Institute of Certified Public Accountants)\\n\\n**XI. References**\\n\\nThis blog post has been cited from a range of academic journals, industry reports, and other sources. Some of the key references include:\\n\\n* Bureau of Labor Statistics (BLS)\\n* CFA Institute\\n* McKinsey\\n* Deloitte\\n* Coursera\\n* edX\\n* AICPA'"
      ]
     },
     "execution_count": 19,
     "metadata": {},
     "output_type": "execute_result"
    }
   ],
   "source": [
    "final_state['content']"
   ]
  }
 ],
 "metadata": {
  "kernelspec": {
   "display_name": "myenv",
   "language": "python",
   "name": "python3"
  },
  "language_info": {
   "codemirror_mode": {
    "name": "ipython",
    "version": 3
   },
   "file_extension": ".py",
   "mimetype": "text/x-python",
   "name": "python",
   "nbconvert_exporter": "python",
   "pygments_lexer": "ipython3",
   "version": "3.12.7"
  }
 },
 "nbformat": 4,
 "nbformat_minor": 5
}
